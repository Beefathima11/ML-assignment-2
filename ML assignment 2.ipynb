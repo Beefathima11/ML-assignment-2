{
 "cells": [
  {
   "cell_type": "code",
   "execution_count": 3,
   "id": "417013b6-5adc-4990-a702-f613d453cc7d",
   "metadata": {},
   "outputs": [
    {
     "name": "stdout",
     "output_type": "stream",
     "text": [
      "Collecting scikit-learn\n",
      "  Downloading scikit_learn-1.6.1-cp313-cp313-win_amd64.whl.metadata (15 kB)\n",
      "Requirement already satisfied: numpy>=1.19.5 in c:\\users\\beefa\\appdata\\local\\programs\\python\\python313\\lib\\site-packages (from scikit-learn) (2.2.4)\n",
      "Requirement already satisfied: scipy>=1.6.0 in c:\\users\\beefa\\appdata\\local\\programs\\python\\python313\\lib\\site-packages (from scikit-learn) (1.15.2)\n",
      "Collecting joblib>=1.2.0 (from scikit-learn)\n",
      "  Downloading joblib-1.4.2-py3-none-any.whl.metadata (5.4 kB)\n",
      "Collecting threadpoolctl>=3.1.0 (from scikit-learn)\n",
      "  Downloading threadpoolctl-3.6.0-py3-none-any.whl.metadata (13 kB)\n",
      "Downloading scikit_learn-1.6.1-cp313-cp313-win_amd64.whl (11.1 MB)\n",
      "   ---------------------------------------- 0.0/11.1 MB ? eta -:--:--\n",
      "   - -------------------------------------- 0.5/11.1 MB 3.7 MB/s eta 0:00:03\n",
      "   ---- ----------------------------------- 1.3/11.1 MB 4.0 MB/s eta 0:00:03\n",
      "   -------- ------------------------------- 2.4/11.1 MB 4.3 MB/s eta 0:00:03\n",
      "   ------------- -------------------------- 3.7/11.1 MB 4.9 MB/s eta 0:00:02\n",
      "   ----------------- ---------------------- 5.0/11.1 MB 5.2 MB/s eta 0:00:02\n",
      "   --------------------- ------------------ 6.0/11.1 MB 5.3 MB/s eta 0:00:01\n",
      "   ----------------------- ---------------- 6.6/11.1 MB 4.7 MB/s eta 0:00:01\n",
      "   ------------------------ --------------- 6.8/11.1 MB 4.5 MB/s eta 0:00:01\n",
      "   -------------------------- ------------- 7.3/11.1 MB 4.1 MB/s eta 0:00:01\n",
      "   --------------------------- ------------ 7.6/11.1 MB 4.0 MB/s eta 0:00:01\n",
      "   ----------------------------- ---------- 8.1/11.1 MB 3.8 MB/s eta 0:00:01\n",
      "   ------------------------------- -------- 8.7/11.1 MB 3.6 MB/s eta 0:00:01\n",
      "   --------------------------------- ------ 9.2/11.1 MB 3.5 MB/s eta 0:00:01\n",
      "   ----------------------------------- ---- 9.7/11.1 MB 3.4 MB/s eta 0:00:01\n",
      "   ------------------------------------ --- 10.2/11.1 MB 3.4 MB/s eta 0:00:01\n",
      "   -------------------------------------- - 10.7/11.1 MB 3.3 MB/s eta 0:00:01\n",
      "   ---------------------------------------- 11.1/11.1 MB 3.3 MB/s eta 0:00:00\n",
      "Downloading joblib-1.4.2-py3-none-any.whl (301 kB)\n",
      "Downloading threadpoolctl-3.6.0-py3-none-any.whl (18 kB)\n",
      "Installing collected packages: threadpoolctl, joblib, scikit-learn\n",
      "Successfully installed joblib-1.4.2 scikit-learn-1.6.1 threadpoolctl-3.6.0\n"
     ]
    },
    {
     "name": "stderr",
     "output_type": "stream",
     "text": [
      "\n",
      "[notice] A new release of pip is available: 24.3.1 -> 25.0.1\n",
      "[notice] To update, run: python.exe -m pip install --upgrade pip\n"
     ]
    }
   ],
   "source": [
    "!pip install scikit-learn\n"
   ]
  },
  {
   "cell_type": "code",
   "execution_count": 4,
   "id": "022f7923-be08-452c-a09a-f61c9fb19555",
   "metadata": {},
   "outputs": [],
   "source": [
    "import pandas as pd\n",
    "import numpy as np\n",
    "import matplotlib.pyplot as plt\n",
    "import seaborn as sns\n",
    "from sklearn.preprocessing import StandardScaler, MinMaxScaler, LabelEncoder"
   ]
  },
  {
   "cell_type": "code",
   "execution_count": 6,
   "id": "4d0963c3-9ce0-4259-97c6-b70c49ebbb9a",
   "metadata": {},
   "outputs": [],
   "source": [
    "# Load dataset\n",
    "df = pd.read_csv(\"Employee.csv\")\n"
   ]
  },
  {
   "cell_type": "code",
   "execution_count": 7,
   "id": "92af89cb-1c05-4e35-b023-b03523f652e6",
   "metadata": {},
   "outputs": [
    {
     "name": "stdout",
     "output_type": "stream",
     "text": [
      "Unique values per column:\n",
      "Company: 6 unique values\n",
      "Age: 29 unique values\n",
      "Salary: 40 unique values\n",
      "Place: 11 unique values\n",
      "Country: 1 unique values\n",
      "Gender: 2 unique values\n",
      "\n",
      "Statistical Summary:\n",
      "              Age       Salary      Gender\n",
      "count  130.000000   124.000000  148.000000\n",
      "mean    30.484615  5312.467742    0.222973\n",
      "std     11.096640  2573.764683    0.417654\n",
      "min      0.000000  1089.000000    0.000000\n",
      "25%     22.000000  3030.000000    0.000000\n",
      "50%     32.500000  5000.000000    0.000000\n",
      "75%     37.750000  8000.000000    0.000000\n",
      "max     54.000000  9876.000000    1.000000\n"
     ]
    }
   ],
   "source": [
    "# Data Exploration\n",
    "print(\"Unique values per column:\")\n",
    "for col in df.columns:\n",
    "    print(f\"{col}: {df[col].nunique()} unique values\")\n",
    "    \n",
    "print(\"\\nStatistical Summary:\")\n",
    "print(df.describe())"
   ]
  },
  {
   "cell_type": "code",
   "execution_count": 14,
   "id": "083c3f1b-3864-4df5-a61f-c20fba0b96be",
   "metadata": {},
   "outputs": [
    {
     "name": "stdout",
     "output_type": "stream",
     "text": [
      "Index(['Company', 'age', 'salary', 'Place', 'Country', 'Gender'], dtype='object')\n"
     ]
    }
   ],
   "source": [
    "print(df.columns)"
   ]
  },
  {
   "cell_type": "code",
   "execution_count": 15,
   "id": "9c1c3ee4-03a6-42bd-891d-8a1bc90da320",
   "metadata": {},
   "outputs": [],
   "source": [
    "# Renaming columns for clarity\n",
    "df.rename(columns={'Age': 'age', 'Salary': 'salary', 'Place': 'Location'}, inplace=True)"
   ]
  },
  {
   "cell_type": "code",
   "execution_count": 16,
   "id": "1e9eb9b0-aef5-41c3-8dc5-db26400b983e",
   "metadata": {},
   "outputs": [
    {
     "name": "stdout",
     "output_type": "stream",
     "text": [
      "Index(['Company', 'age', 'salary', 'Location', 'Country', 'Gender'], dtype='object')\n"
     ]
    }
   ],
   "source": [
    "print(df.columns)"
   ]
  },
  {
   "cell_type": "code",
   "execution_count": 17,
   "id": "cd3ad9b3-c17f-4ff5-992a-f89a23f1d0e8",
   "metadata": {},
   "outputs": [],
   "source": [
    "# Data Cleaning\n",
    "# Replace 0 in age with NaN\n",
    "df['age'] = df['age'].replace(0, np.nan)"
   ]
  },
  {
   "cell_type": "code",
   "execution_count": 20,
   "id": "2d259a68-9073-41d0-994e-7981e740a065",
   "metadata": {},
   "outputs": [],
   "source": [
    "# Renaming columns for clarity\n",
    "df.rename(columns={'age': 'Age', 'salary': 'Salary', 'Place': 'Location'}, inplace=True)"
   ]
  },
  {
   "cell_type": "code",
   "execution_count": 21,
   "id": "b233b635-ae5d-4b09-898a-c26c854c71f0",
   "metadata": {},
   "outputs": [
    {
     "name": "stdout",
     "output_type": "stream",
     "text": [
      "Index(['Company', 'Age', 'Salary', 'Location', 'Country', 'Gender'], dtype='object')\n"
     ]
    }
   ],
   "source": [
    "print(df.columns)"
   ]
  },
  {
   "cell_type": "code",
   "execution_count": 22,
   "id": "7ebfb46a-1c2b-40a3-92ef-0a2a79c0d71c",
   "metadata": {},
   "outputs": [],
   "source": [
    "# Handling missing values (using median for numerical, mode for categorical)\n",
    "df.fillna({\n",
    "    'age': df['Age'].median(),\n",
    "    'salary': df['Salary'].median(),\n",
    "    'location': df['Location'].mode()[0]\n",
    "}, inplace=True)\n"
   ]
  },
  {
   "cell_type": "code",
   "execution_count": 23,
   "id": "29c148eb-05ec-4f07-8e2d-1305f61bb49e",
   "metadata": {},
   "outputs": [],
   "source": [
    "# Remove duplicates\n",
    "df.drop_duplicates(inplace=True)"
   ]
  },
  {
   "cell_type": "code",
   "execution_count": 25,
   "id": "a3fc052d-eb77-426c-8478-04b55bd00429",
   "metadata": {},
   "outputs": [],
   "source": [
    "# Detecting and treating outliers (using IQR method)\n",
    "Q1 = df['Age'].quantile(0.25)\n",
    "Q3 = df['Age'].quantile(0.75)\n",
    "IQR = Q3 - Q1\n",
    "lower_bound = Q1 - 1.5 * IQR\n",
    "upper_bound = Q3 + 1.5 * IQR\n",
    "df = df[(df['Age'] >= lower_bound) & (df['Age'] <= upper_bound)]\n"
   ]
  },
  {
   "cell_type": "code",
   "execution_count": 27,
   "id": "8717f4cf-f6a5-43f4-bf71-42f7d8e7dacc",
   "metadata": {},
   "outputs": [
    {
     "data": {
      "image/png": "[encoded data removed]",
      "text/plain": [
       "<Figure size 640x480 with 1 Axes>"
      ]
     },
     "metadata": {},
     "output_type": "display_data"
    }
   ],
   "source": [
    "# Data Analysis\n",
    "filtered_df = df[(df['Age'] > 40) & (df['Salary'] < 5000)]\n",
    "filtered_df.plot(x='Age', y='Salary', kind='scatter')\n",
    "plt.title('Age vs Salary')\n",
    "plt.show()"
   ]
  },
  {
   "cell_type": "code",
   "execution_count": 28,
   "id": "f1c537a1-31d2-4919-81c2-66c88ff2b99a",
   "metadata": {},
   "outputs": [
    {
     "data": {
      "image/png": "[encoded data removed]",
      "text/plain": [
       "<Figure size 640x480 with 1 Axes>"
      ]
     },
     "metadata": {},
     "output_type": "display_data"
    }
   ],
   "source": [
    "# Count people from each location and visualize\n",
    "sns.countplot(x=df['Location'])\n",
    "plt.xticks(rotation=45)\n",
    "plt.show()"
   ]
  },
  {
   "cell_type": "code",
   "execution_count": 29,
   "id": "680313ff-8944-4162-b289-29e7a27ce18b",
   "metadata": {},
   "outputs": [],
   "source": [
    "# Data Encoding\n",
    "label_encoder = LabelEncoder()\n",
    "df['Location'] = label_encoder.fit_transform(df['Location'])\n"
   ]
  },
  {
   "cell_type": "code",
   "execution_count": 30,
   "id": "2a255e48-a457-4210-9470-97f50ba27bd7",
   "metadata": {},
   "outputs": [],
   "source": [
    "df = pd.get_dummies(df, columns=['Location'])"
   ]
  },
  {
   "cell_type": "code",
   "execution_count": 31,
   "id": "0da8e1fd-ca85-432d-8959-4bab81830966",
   "metadata": {},
   "outputs": [],
   "source": [
    "# Feature Scaling\n",
    "scaler_standard = StandardScaler()\n",
    "scaler_minmax = MinMaxScaler()"
   ]
  },
  {
   "cell_type": "code",
   "execution_count": 32,
   "id": "9fb216e6-3874-4ffc-a1e6-414e7632397d",
   "metadata": {},
   "outputs": [],
   "source": [
    "df[['Age', 'Salary']] = scaler_standard.fit_transform(df[['Age', 'Salary']])\n",
    "df[['Age', 'Salary']] = scaler_minmax.fit_transform(df[['Age', 'Salary']])"
   ]
  },
  {
   "cell_type": "code",
   "execution_count": 33,
   "id": "ceb81ded-27d0-4e68-a5f2-760abc424c26",
   "metadata": {},
   "outputs": [
    {
     "name": "stdout",
     "output_type": "stream",
     "text": [
      "Data preprocessing complete.\n"
     ]
    }
   ],
   "source": [
    "print(\"Data preprocessing complete.\")"
   ]
  },
  {
   "cell_type": "code",
   "execution_count": null,
   "id": "9ad721b5-8532-484d-9ce2-a1b159cc6116",
   "metadata": {},
   "outputs": [],
   "source": []
  }
 ],
 "metadata": {
  "kernelspec": {
   "display_name": "Python 3 (ipykernel)",
   "language": "python",
   "name": "python3"
  },
  "language_info": {
   "codemirror_mode": {
    "name": "ipython",
    "version": 3
   },
   "file_extension": ".py",
   "mimetype": "text/x-python",
   "name": "python",
   "nbconvert_exporter": "python",
   "pygments_lexer": "ipython3",
   "version": "3.13.2"
  }
 },
 "nbformat": 4,
 "nbformat_minor": 5
}
